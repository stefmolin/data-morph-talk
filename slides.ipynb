{
 "cells": [
  {
   "cell_type": "markdown",
   "id": "ff52b72a-9ba4-4943-b2d5-86a44377ba4c",
   "metadata": {
    "editable": true,
    "slideshow": {
     "slide_type": "slide"
    },
    "tags": []
   },
   "source": [
    "# Data Morph\n",
    "## A Cautionary Tale of Summary Statistics\n",
    "\n",
    "<br/>\n",
    "\n",
    "### Stefanie Molin"
   ]
  },
  {
   "cell_type": "markdown",
   "id": "16834a8a-6dd9-4029-a38c-0961d391e88b",
   "metadata": {
    "editable": true,
    "slideshow": {
     "slide_type": "slide"
    },
    "tags": []
   },
   "source": [
    "## Bio\n",
    "\n",
    "- &#128105;&#127995;&#8205;&#128187; Software engineer at Bloomberg in New York City\n",
    "- &#10024; Co-chair and founding member of Bloomberg's Data Science Community\n",
    "- &#9997;&#127996; Author of <em>[Hands-On Data Analysis with Pandas](https://www.amazon.com/Hands-Data-Analysis-Pandas-visualization-dp-1800563450/dp/1800563450/)</em> (currently in its second edition; translated into Korean and Chinese)\n",
    "- &#127891; BS in operations research from Columbia University\n",
    "- &#127891; MS in computer science (ML specialization) from Georgia Tech"
   ]
  },
  {
   "cell_type": "markdown",
   "id": "a2ceca09-0c27-416d-b9ba-2c097e4d7771",
   "metadata": {
    "editable": true,
    "slideshow": {
     "slide_type": "notes"
    },
    "tags": []
   },
   "source": [
    "## Talk outline\n",
    "\n",
    "- Why summary statistics aren't enough\n",
    "- Introduction to Data Morph\n",
    "- How Data Morph works\n",
    "- Limitations and areas for future work\n",
    "- Lessons learned and challenges faced"
   ]
  },
  {
   "cell_type": "markdown",
   "id": "9beda5e4-9978-4171-9278-3f0efc462cf5",
   "metadata": {
    "editable": true,
    "slideshow": {
     "slide_type": "slide"
    },
    "tags": []
   },
   "source": [
    "## Summary statistics aren't enough"
   ]
  },
  {
   "cell_type": "markdown",
   "id": "d2e0aa33-1c67-408f-bf4d-6c9adb1bec32",
   "metadata": {
    "editable": true,
    "slideshow": {
     "slide_type": "subslide"
    },
    "tags": []
   },
   "source": [
    "These datasets are clearly different:\n",
    "\n",
    "![example datasets](media/example_datasets.png)\n",
    "\n",
    "<hr align=\"left\" style=\"width: 33%;\" />\n",
    "<div style=\"text-indent: -10px; padding-left: 40px; width: 90%;\">\n",
    "    <small>$^*$ The Python logo is a <a href=\"https://www.python.org/psf/trademarks/\" target=\"_blank\" rel=\"noopener noreferrer\">trademark of the Python Software Foundation (PSF)</a>, used with permission from the Foundation.</small>\n",
    "</div>"
   ]
  },
  {
   "cell_type": "markdown",
   "id": "59e6d85e-2268-4d8f-bfcd-df4181370c79",
   "metadata": {
    "editable": true,
    "slideshow": {
     "slide_type": "subslide"
    },
    "tags": []
   },
   "source": [
    "However, we would not know that if we were to only look at the summary statistics:\n",
    "\n",
    "![summary statistics are the same](media/stats.gif)\n",
    "\n",
    "<hr align=\"left\" style=\"width: 33%;\" />\n",
    "<div style=\"text-indent: -10px; padding-left: 40px; width: 90%;\">\n",
    "    <small>$^*$ The Python logo is a <a href=\"https://www.python.org/psf/trademarks/\" target=\"_blank\" rel=\"noopener noreferrer\">trademark of the Python Software Foundation (PSF)</a>, used with permission from the Foundation.</small>\n",
    "</div>"
   ]
  },
  {
   "cell_type": "markdown",
   "id": "07f9289b-3894-4108-bacb-aa474dee5e77",
   "metadata": {
    "editable": true,
    "slideshow": {
     "slide_type": "subslide"
    },
    "tags": []
   },
   "source": [
    "What we call *summary statistics* summarize only part of the distribution. We need many **moments**$^*$ to describe the shape of a distribution (and distinguish between these datasets):\n",
    "\n",
    "![moments](media/moments.gif)\n",
    "\n",
    "<hr align=\"left\" style=\"width: 33%;\" />\n",
    "<div style=\"text-indent: -10px; padding-left: 40px; width: 90%;\">\n",
    "    <small>$^*$ The first moment is the center of mass of the distribution (the mean); here, we have central moments, which are independent of translation, so our first moment is zero (we subtract the mean). The second moment is the variance, but once we get to the third moment (skewness), we can differentiate between these datasets. Further moments, like kurtosis (4th moment), provide even more information.</small>\n",
    "</div>\n",
    "<div style=\"text-indent: -10px; padding-left: 40px; width: 90%;\">\n",
    "    <small>$^\\dagger$ The Python logo is a <a href=\"https://www.python.org/psf/trademarks/\" target=\"_blank\" rel=\"noopener noreferrer\">trademark of the Python Software Foundation (PSF)</a>, used with permission from the Foundation.</small>\n",
    "</div>"
   ]
  },
  {
   "cell_type": "markdown",
   "id": "9be9e8ea-378d-4e6e-bc52-9fa211e243df",
   "metadata": {
    "editable": true,
    "slideshow": {
     "slide_type": "subslide"
    },
    "tags": []
   },
   "source": [
    "Adding in histograms for the marginal distributions, we can see the distributions of both *x* and *y* are indeed quite different across datasets. Some of these differences are captured in the third moment (**skewness**) and the fourth moment (**kurtosis**), which measure the asymmetry and weight in the tails of the distribution, respectively:\n",
    "\n",
    "![marginal distributions](media/with_marginals.png)\n",
    "\n",
    "<hr align=\"left\" style=\"width: 33%;\" />\n",
    "<div style=\"text-indent: -10px; padding-left: 40px; width: 90%;\">\n",
    "    <small>$^*$ The Python logo is a <a href=\"https://www.python.org/psf/trademarks/\" target=\"_blank\" rel=\"noopener noreferrer\">trademark of the Python Software Foundation (PSF)</a>, used with permission from the Foundation.</small>\n",
    "</div>"
   ]
  },
  {
   "cell_type": "markdown",
   "id": "929f2194-66ca-4bda-b135-58f09cb1f61a",
   "metadata": {
    "editable": true,
    "slideshow": {
     "slide_type": "subslide"
    },
    "tags": []
   },
   "source": [
    "However, the moments aren't capturing the relationship between *x* and *y*. If we suspect a linear relationship, we may use the Pearson correlation coefficient, which is the same for all three datasets below. Here, the visualization tells us a lot more information about the relationships between the variables:\n",
    "\n",
    "![summary statistics static](media/stats.png)\n",
    "\n",
    "<hr align=\"left\" style=\"width: 33%;\" />\n",
    "<div style=\"text-indent: -10px; padding-left: 40px; width: 90%;\">\n",
    "    <small>$^*$ The Python logo is a <a href=\"https://www.python.org/psf/trademarks/\" target=\"_blank\" rel=\"noopener noreferrer\">trademark of the Python Software Foundation (PSF)</a>, used with permission from the Foundation.</small>\n",
    "</div>"
   ]
  },
  {
   "cell_type": "markdown",
   "id": "de4f0371-4c13-4969-a065-0c0b81e54b7e",
   "metadata": {
    "editable": true,
    "slideshow": {
     "slide_type": "subslide"
    },
    "tags": []
   },
   "source": [
    "The Pearson correlation coefficient measures *linear* correlation, so if we don't visualize our data, then we have another problem: a high correlation (close in absolute value to 1) does not mean the relationship is actually linear. Without a visualization to contextualize the summary statistics, we do not have an accurate understanding of the data."
   ]
  },
  {
   "cell_type": "markdown",
   "id": "c6912f08-41b1-4806-87a3-9455133188e8",
   "metadata": {
    "editable": true,
    "slideshow": {
     "slide_type": "subslide"
    },
    "tags": []
   },
   "source": [
    "For example, all four datasets in **Anscombe's Quartet** (constructed in 1973) have strong correlations, but only **I** and **III** have linear relationships:\n",
    "\n",
    "![Anscombe's Quartet](media/anscombe.png)\n",
    "\n",
    "<div style=\"text-align: center; margin-top: -20px;\">\n",
    "    <small>This visual was created by Stefanie Molin using the Anscombe's Quartet dataset as provided in\n",
    "        <a href=\"https://github.com/mwaskom/seaborn\" target=\"_blank\" rel=\"noopener noreferrer\">seaborn.</a></small>\n",
    "</div>"
   ]
  },
  {
   "cell_type": "markdown",
   "id": "1762d894-f213-4307-b204-de513b481214",
   "metadata": {
    "editable": true,
    "slideshow": {
     "slide_type": "subslide"
    },
    "tags": []
   },
   "source": [
    "Despite all of this, there's still (and always will be) a tendency to forget that summary statistics aren't enough."
   ]
  },
  {
   "cell_type": "markdown",
   "id": "92fe137a-29f4-4760-a2fc-4143957c87bd",
   "metadata": {
    "editable": true,
    "slideshow": {
     "slide_type": "subslide"
    },
    "tags": []
   },
   "source": [
    "In 2017, Autodesk researchers created the **Datasaurus Dozen**, building upon the idea of Anscombe's Quartet to make a more impactful example:\n",
    "\n",
    "<div style=\"text-align: center;\">\n",
    "    <img src=\"media/datasaurus.png\" alt=\"Datasaurus Dozen\" width=\"500px\" style=\"margin: -10px auto;\">\n",
    "    <br/>\n",
    "    <div style=\"margin: auto 22%;\">\n",
    "    <small>This visual was created by Stefanie Molin using the Datasaurus Dozen dataset as provided by\n",
    "        <a href=\"https://github.com/jmatejka/same-stats-different-graphs\" target=\"_blank\" rel=\"noopener noreferrer\">jmatejka/same-stats-different-graphs.</a></small></div>\n",
    "</div>"
   ]
  },
  {
   "cell_type": "markdown",
   "id": "5f9aac85-82c2-4c73-abec-3f31813d9b78",
   "metadata": {
    "editable": true,
    "slideshow": {
     "slide_type": "subslide"
    },
    "tags": []
   },
   "source": [
    "They also employed animation, which is even more impactful. Every shape as we transition between the Datasaurus and the circle shares the same summary statistics:\n",
    "\n",
    "<div style=\"text-align: center;\">\n",
    "    <img src=\"media/dino_to_circle.gif\" alt=\"Datasaurus to circle (Data Morph)\">\n",
    "    <br/>\n",
    "    <small>This visual was created by Stefanie Molin using Data Morph.</small>\n",
    "</div>"
   ]
  },
  {
   "cell_type": "markdown",
   "id": "6af7478f-dcba-426b-98e3-74fcbcb61a15",
   "metadata": {
    "editable": true,
    "slideshow": {
     "slide_type": "subslide"
    },
    "tags": []
   },
   "source": [
    "But, now we have a new problem..."
   ]
  },
  {
   "cell_type": "markdown",
   "id": "c3f90c66-d8d8-420a-9fb2-6385365558de",
   "metadata": {
    "editable": true,
    "slideshow": {
     "slide_type": "subslide"
    },
    "tags": []
   },
   "source": [
    "## What's so special about the Datasaurus?"
   ]
  },
  {
   "cell_type": "markdown",
   "id": "b635dbe5-0db5-46a1-b8d0-37d20d1f6ad5",
   "metadata": {
    "editable": true,
    "slideshow": {
     "slide_type": "fragment"
    },
    "tags": []
   },
   "source": [
    "### NOTHING!"
   ]
  },
  {
   "cell_type": "markdown",
   "id": "f67bdb51-4c2d-4893-8202-93d8c9324791",
   "metadata": {
    "editable": true,
    "slideshow": {
     "slide_type": "subslide"
    },
    "tags": []
   },
   "source": [
    "Since there was no easy way to do this for arbitrary datasets, people assumed that this capability is a property of the Datasaurus and were shocked to see this work with other shapes. The more ways people see this and the more memorable they are, the better this concept will stick – repetition is key to learning. This is why I built [Data Morph](https://stefaniemolin.com/data-morph/stable/index.html)."
   ]
  },
  {
   "cell_type": "markdown",
   "id": "14937364-e862-498e-b759-0bf6a21ee356",
   "metadata": {
    "editable": true,
    "slideshow": {
     "slide_type": "subslide"
    },
    "tags": []
   },
   "source": [
    "### Data Morph addresses the limitations of previous methods\n",
    "\n",
    "- installable Python package that can be used without hacking at the code base\n",
    "- animated results right out of the box\n",
    "- additional datasets (built-in and custom): use datasets other than the aforementioned examples\n",
    "- make it easy for people to experiment with their own datasets and various target shapes\n",
    "- number of possible examples is no longer frozen"
   ]
  },
  {
   "cell_type": "markdown",
   "id": "b8eb19d0-6fe0-4309-8a5b-81e429c9e442",
   "metadata": {
    "editable": true,
    "slideshow": {
     "slide_type": "slide"
    },
    "tags": []
   },
   "source": [
    "## Data Morph (2023)\n",
    "\n",
    "<div style=\"text-align: center;\">\n",
    "    <img src=\"media/Python_to_heart.gif\" alt=\"morphing the Python logo into a heart\">\n",
    "</div>\n",
    "\n",
    "<hr align=\"left\" style=\"width: 33%;\" />\n",
    "<div style=\"text-indent: -10px; padding-left: 40px; width: 90%;\">\n",
    "    <small>$^*$ The Python logo is a <a href=\"https://www.python.org/psf/trademarks/\" target=\"_blank\" rel=\"noopener noreferrer\">trademark of the Python Software Foundation (PSF)</a>, used with permission from the Foundation.</small>\n",
    "</div>"
   ]
  },
  {
   "cell_type": "markdown",
   "id": "4b03c0b0-881c-4845-aa62-df43b17c718a",
   "metadata": {
    "editable": true,
    "slideshow": {
     "slide_type": "skip"
    },
    "tags": []
   },
   "source": [
    "Here's the code to create that example:\n",
    "```console\n",
    "$ python -m pip install data-morph-ai\n",
    "$ data-morph --start-shape Python --target-shape heart\n",
    "```"
   ]
  },
  {
   "cell_type": "markdown",
   "id": "b4235eb9-6b3a-4b26-8bb3-d1810601f85f",
   "metadata": {
    "editable": true,
    "slideshow": {
     "slide_type": "subslide"
    },
    "tags": []
   },
   "source": [
    "Here's the code to create that example:\n",
    "\n",
    "<div style=\"text-align: left;\">\n",
    "    <img src=\"media/snippets/data_morph_install.svg\" alt=\"installing and using Data Morph on the command line\">\n",
    "</div>"
   ]
  },
  {
   "cell_type": "markdown",
   "id": "a69c96d7-b54b-4ad0-9add-d8f5d8721b6b",
   "metadata": {
    "editable": true,
    "slideshow": {
     "slide_type": "skip"
    },
    "tags": []
   },
   "source": [
    "Here's what's going on behind the scenes:\n",
    "```python\n",
    "from data_morph.data.loader import DataLoader\n",
    "from data_morph.morpher import DataMorpher\n",
    "from data_morph.shapes.factory import ShapeFactory\n",
    "\n",
    "\n",
    "dataset = DataLoader.load_dataset('Python')\n",
    "target_shape = ShapeFactory(dataset).generate_shape('heart')\n",
    "\n",
    "morpher = DataMorpher(decimals=2, in_notebook=False)\n",
    "_ = morpher.morph(dataset, target_shape)\n",
    "```"
   ]
  },
  {
   "cell_type": "markdown",
   "id": "f257d563-6a6e-4ada-9142-5ae0a49078b5",
   "metadata": {
    "editable": true,
    "slideshow": {
     "slide_type": "subslide"
    },
    "tags": []
   },
   "source": [
    "Here's what's going on behind the scenes:\n",
    "\n",
    "<div style=\"text-align: left;\">\n",
    "    <img src=\"media/snippets/data_morph_code_intro.svg\" alt=\"behind the scenes\">\n",
    "</div>"
   ]
  },
  {
   "cell_type": "markdown",
   "id": "58cefa28-ea6c-42b7-b700-ac64211cc0cb",
   "metadata": {
    "editable": true,
    "slideshow": {
     "slide_type": "subslide"
    },
    "tags": []
   },
   "source": [
    "## How it works\n",
    "A high-level overview."
   ]
  },
  {
   "cell_type": "markdown",
   "id": "cd68660d-daae-4cde-8620-1ee37e7c1777",
   "metadata": {
    "editable": true,
    "jp-MarkdownHeadingCollapsed": true,
    "slideshow": {
     "slide_type": "skip"
    },
    "tags": []
   },
   "source": [
    "### 1. Select a starting dataset\n",
    "```python\n",
    "from data_morph.data.loader import DataLoader  # <--\n",
    "from data_morph.morpher import DataMorpher\n",
    "from data_morph.shapes.factory import ShapeFactory\n",
    "\n",
    "\n",
    "dataset = DataLoader.load_dataset('Python')  # <--\n",
    "target_shape = ShapeFactory(dataset).generate_shape('heart')\n",
    "\n",
    "morpher = DataMorpher(decimals=2, in_notebook=False)\n",
    "_ = morpher.morph(dataset, target_shape)\n",
    "```"
   ]
  },
  {
   "cell_type": "markdown",
   "id": "da72558c-d645-4f28-958c-3cfc26ae5479",
   "metadata": {
    "editable": true,
    "slideshow": {
     "slide_type": "subslide"
    },
    "tags": []
   },
   "source": [
    "### 1. Select a starting dataset\n",
    "<div style=\"text-align: left;\">\n",
    "    <img src=\"media/snippets/data_morph_load_dataset.svg\" alt=\"loading a dataset\">\n",
    "</div>"
   ]
  },
  {
   "cell_type": "markdown",
   "id": "45ee3f6a-df17-4c98-ac0d-777bb688abac",
   "metadata": {
    "editable": true,
    "slideshow": {
     "slide_type": "subslide"
    },
    "tags": []
   },
   "source": [
    "#### Automatically-calculated bounds\n",
    "\n",
    "Data Morph provides the `Dataset` class that wraps the data (stored as a `pandas.DataFrame`) with information about bounds for the data, the morphing process, and plotting. This allows for the use of arbitrary datasets by providing a way to calculate target shapes – no more hardcoded values.\n",
    "\n",
    "<div style=\"text-align: center;\">\n",
    "    <img src=\"media/bounds.png\" alt=\"automatically-calculated bounds\" width=\"400px\">\n",
    "</div>\n",
    "\n",
    "<hr align=\"left\" style=\"width: 33%;\" />\n",
    "<div style=\"text-indent: -10px; padding-left: 40px; width: 90%;\">\n",
    "    <small>$^*$ The Python logo is a <a href=\"https://www.python.org/psf/trademarks/\" target=\"_blank\" rel=\"noopener noreferrer\">trademark of the Python Software Foundation (PSF)</a>, used with permission from the Foundation.</small>\n",
    "</div>"
   ]
  },
  {
   "cell_type": "markdown",
   "id": "881da177-f87c-4a83-9f57-f0385993db4d",
   "metadata": {
    "editable": true,
    "slideshow": {
     "slide_type": "subslide"
    },
    "tags": []
   },
   "source": [
    "#### Built-in datasets\n",
    "\n",
    "To spark creativity, there are built-in datasets to inspire you:\n",
    "\n",
    "<div style=\"text-align: center;\">\n",
    "    <img src=\"media/available_datasets.png\" alt=\"built-in datasets\" width=\"450px\">\n",
    "    <br/>\n",
    "    <small>Note: Currently displaying what's available as of the v0.2.0 release. All logos are used with <a href=\"https://stefaniemolin.com/data-morph/stable/api/data_morph.data.loader.html#id1\" target=\"_blank\" rel=\"noopener noreferrer\">permission</a>.</small>\n",
    "</div>"
   ]
  },
  {
   "cell_type": "markdown",
   "id": "3726a990-b921-4618-80f4-4ac1d48d50c1",
   "metadata": {
    "editable": true,
    "slideshow": {
     "slide_type": "skip"
    },
    "tags": []
   },
   "source": [
    "### 2. Generate a target shape based on the dataset\n",
    "\n",
    "```python\n",
    "from data_morph.data.loader import DataLoader\n",
    "from data_morph.morpher import DataMorpher\n",
    "from data_morph.shapes.factory import ShapeFactory  # <--\n",
    "\n",
    "\n",
    "dataset = DataLoader.load_dataset('Python')\n",
    "target_shape = ShapeFactory(dataset).generate_shape('heart')  # <--\n",
    "\n",
    "morpher = DataMorpher(decimals=2, in_notebook=False)\n",
    "_ = morpher.morph(dataset, target_shape)\n",
    "```"
   ]
  },
  {
   "cell_type": "markdown",
   "id": "db52dd43-2848-4e06-943c-b4c0569ca7ea",
   "metadata": {
    "editable": true,
    "slideshow": {
     "slide_type": "subslide"
    },
    "tags": []
   },
   "source": [
    "### 2. Generate a target shape based on the dataset\n",
    "\n",
    "<div style=\"text-align: left;\">\n",
    "    <img src=\"media/snippets/data_morph_generate_shape.svg\" alt=\"generate shape\">\n",
    "</div>"
   ]
  },
  {
   "cell_type": "markdown",
   "id": "faafb7b7-2972-4125-9eda-434f5f1cc889",
   "metadata": {
    "editable": true,
    "slideshow": {
     "slide_type": "subslide"
    },
    "tags": []
   },
   "source": [
    "#### Scaling and translating target shapes\n",
    "\n",
    "Depending on the target shape, bounds and/or statistics from the dataset are used to generate a custom target shape for the dataset to morph into.\n",
    "\n",
    "![shapes are calculated based on input data](media/fitting_shapes.png)\n",
    "\n",
    "\n",
    "<hr align=\"left\" style=\"width: 33%;\" />\n",
    "<div style=\"text-indent: -10px; padding-left: 40px; width: 90%;\">\n",
    "    <small>$^*$ The Python logo is a <a href=\"https://www.python.org/psf/trademarks/\" target=\"_blank\" rel=\"noopener noreferrer\">trademark of the Python Software Foundation (PSF)</a>, used with permission from the Foundation.</small>\n",
    "</div>"
   ]
  },
  {
   "cell_type": "markdown",
   "id": "3eb040bc-b067-47ca-9229-c71bdf30b91b",
   "metadata": {
    "editable": true,
    "jp-MarkdownHeadingCollapsed": true,
    "slideshow": {
     "slide_type": "subslide"
    },
    "tags": []
   },
   "source": [
    "#### Built-in target shapes\n",
    "\n",
    "The following target shapes are currently available:\n",
    "\n",
    "<div style=\"text-align: center;\">\n",
    "    <img src=\"media/available_shapes.png\" alt=\"built-in target shapes\" width=\"500px\">\n",
    "    <br/>\n",
    "    <small>Note: Currently displaying what's available as of the v0.2.0 release.</small>\n",
    "</div>"
   ]
  },
  {
   "cell_type": "markdown",
   "id": "defb04de-f032-41b1-9c75-39043ddb0d8b",
   "metadata": {
    "editable": true,
    "slideshow": {
     "slide_type": "subslide"
    },
    "tags": []
   },
   "source": [
    "#### The `Shape` class hierarchy\n",
    "\n",
    "In Data Morph, shapes are structured as a hierarchy of classes, which must provide a `distance()` method. This makes them interchangeable in the morphing logic.\n",
    "\n",
    "<div style=\"text-align: center;\">\n",
    "    <img src=\"media/uml/shapes_uml.svg\" alt=\"hierarchy of shapes\">\n",
    "    <br/>\n",
    "    <small>Note: The ... boxes represent classes omitted for space.</small>\n",
    "</div>"
   ]
  },
  {
   "cell_type": "markdown",
   "id": "108c0242-80c1-4b02-bd79-c5ee1fefcaf3",
   "metadata": {
    "editable": true,
    "slideshow": {
     "slide_type": "skip"
    },
    "tags": []
   },
   "source": [
    "### 3. Morph the dataset into the target shape\n",
    "```python\n",
    "from data_morph.data.loader import DataLoader\n",
    "from data_morph.morpher import DataMorpher  # <--\n",
    "from data_morph.shapes.factory import ShapeFactory\n",
    "\n",
    "\n",
    "dataset = DataLoader.load_dataset('Python')\n",
    "target_shape = ShapeFactory(dataset).generate_shape('heart')\n",
    "\n",
    "morpher = DataMorpher(decimals=2, in_notebook=False)  # <--\n",
    "_ = morpher.morph(dataset, target_shape)  # <--\n",
    "```"
   ]
  },
  {
   "cell_type": "markdown",
   "id": "5c89fa02-cece-41c0-8b0f-2f3f314bccb3",
   "metadata": {
    "editable": true,
    "slideshow": {
     "slide_type": "subslide"
    },
    "tags": []
   },
   "source": [
    "### 3. Morph the dataset into the target shape\n",
    "<div style=\"text-align: left;\">\n",
    "    <img src=\"media/snippets/data_morph_morph_step.svg\" alt=\"morph dataset into target shape\">\n",
    "</div>"
   ]
  },
  {
   "cell_type": "markdown",
   "id": "1a802893-d026-4478-8568-c46d35089c25",
   "metadata": {
    "editable": true,
    "slideshow": {
     "slide_type": "subslide"
    },
    "tags": []
   },
   "source": [
    "#### Simulated annealing\n",
    "A point is selected at random (blue) and moved a small, random amount to a new location (red), preserving summary statistics. This part of the code base comes from the Autodesk research and is mostly unchanged:\n",
    "<div style=\"text-align: center;\">\n",
    "    <img src=\"media/simulated_annealing.gif\" alt=\"example point movement\">\n",
    "</div>\n",
    "\n",
    "\n",
    "<hr align=\"left\" style=\"width: 33%;\" />\n",
    "<div style=\"text-indent: -10px; padding-left: 40px; width: 90%;\">\n",
    "    <small>$^*$ The Python logo is a <a href=\"https://www.python.org/psf/trademarks/\" target=\"_blank\" rel=\"noopener noreferrer\">trademark of the Python Software Foundation (PSF)</a>, used with permission from the Foundation.</small>\n",
    "</div>"
   ]
  },
  {
   "cell_type": "markdown",
   "id": "838d3623-e9f9-43d1-952d-f5c0b1619353",
   "metadata": {
    "editable": true,
    "slideshow": {
     "slide_type": "subslide"
    },
    "tags": []
   },
   "source": [
    "#### Avoiding local optima\n",
    "\n",
    "Sometimes, the algorithm will move a point away from the target shape, while still preserving summary statistics. This helps to avoid getting stuck:\n",
    "\n",
    "<div style=\"text-align: center;\">\n",
    "    <img src=\"media/avoiding_local_optima.gif\" alt=\"example point movement\">\n",
    "    <br/>\n",
    "    <small>These iterations were isolated from the animation on the previous slide.</small>\n",
    "</div>\n",
    "\n",
    "\n",
    "<hr align=\"left\" style=\"width: 33%;\" />\n",
    "<div style=\"text-indent: -10px; padding-left: 40px; width: 90%;\">\n",
    "    <small>$^*$ The Python logo is a <a href=\"https://www.python.org/psf/trademarks/\" target=\"_blank\" rel=\"noopener noreferrer\">trademark of the Python Software Foundation (PSF)</a>, used with permission from the Foundation.</small>\n",
    "</div>"
   ]
  },
  {
   "cell_type": "markdown",
   "id": "a845f19b-f499-45fe-823a-738c178f8ccd",
   "metadata": {
    "editable": true,
    "slideshow": {
     "slide_type": "subslide"
    },
    "tags": []
   },
   "source": [
    "The likelihood of doing this decreases over time and is governed by the **temperature** of the simulated annealing process:\n",
    "\n",
    "<div style=\"text-align: center;\">\n",
    "    <img src=\"media/temperature_over_time.png\" alt=\"temperature over time\">\n",
    "    <br/>\n",
    "    <small>The temperature falls to zero as we near the final iterations, meaning we become more strict about moving toward the target shape to finalize the output.</small>\n",
    "</div>"
   ]
  },
  {
   "cell_type": "markdown",
   "id": "0959c8ad-badc-4573-a551-6ed34d949cff",
   "metadata": {
    "editable": true,
    "slideshow": {
     "slide_type": "subslide"
    },
    "tags": []
   },
   "source": [
    "#### Decreasing point movement over time\n",
    "\n",
    "The maximum amount that a point can move at a given iteration decreases over time for a better visual effect. This makes points move faster when the morphing starts and slow down as we approach the target shape:\n",
    "\n",
    "<div style=\"text-align: center;\">\n",
    "    <img src=\"media/Python_to_heart_forward_only.gif\" alt=\"morphing the Python logo into a heart\">\n",
    "</div>\n",
    "\n",
    "<hr align=\"left\" style=\"width: 33%;\" />\n",
    "<div style=\"text-indent: -10px; padding-left: 40px; width: 90%; margin-bottom: -15px;\">\n",
    "    <small>$^*$ The Python logo is a <a href=\"https://www.python.org/psf/trademarks/\" target=\"_blank\" rel=\"noopener noreferrer\">trademark of the Python Software Foundation (PSF)</a>, used with permission from the Foundation.</small>\n",
    "</div>\n",
    "<div style=\"text-indent: -10px; padding-left: 40px; width: 90%;\">\n",
    "    <small>$^\\dagger$ Varying point movement over time is not part of the Autodesk implementation.</small>\n",
    "</div>"
   ]
  },
  {
   "cell_type": "markdown",
   "id": "bf8affe5-cc86-4b43-b55f-bc1de694506c",
   "metadata": {
    "editable": true,
    "slideshow": {
     "slide_type": "notes"
    },
    "tags": []
   },
   "source": [
    "In simulated annealing, we are decreasing temperature over time, so we can think of the earlier iterations as matter in a gaseous state (the points are moving fast). As the temperature decreases, we transition into liquid and eventually solid state, with the point movement decreasing."
   ]
  },
  {
   "cell_type": "markdown",
   "id": "4f9eff68-a0b4-4b12-b256-479691922879",
   "metadata": {
    "editable": true,
    "slideshow": {
     "slide_type": "subslide"
    },
    "tags": []
   },
   "source": [
    "Unlike temperature, we don't allow this value to fall to zero, since we don't want to halt movement:\n",
    "\n",
    "<div style=\"text-align: center;\">\n",
    "    <img src=\"media/maximum_movement_over_time.png\" alt=\"easing movement over time\">\n",
    "    <br/>\n",
    "    <small>Maximum point movement decreases over time just as temperature does.</small>\n",
    "</div>"
   ]
  },
  {
   "cell_type": "markdown",
   "id": "c836c57e-3937-4173-b8af-ec243bbeed21",
   "metadata": {
    "editable": true,
    "slideshow": {
     "slide_type": "subslide"
    },
    "tags": []
   },
   "source": [
    "## Limitations and areas for future work"
   ]
  },
  {
   "cell_type": "markdown",
   "id": "24b0e2c4-a9c2-4e54-af25-ab3101adb71f",
   "metadata": {
    "editable": true,
    "slideshow": {
     "slide_type": "subslide"
    },
    "tags": []
   },
   "source": [
    "### &ldquo;Bald spots&rdquo;\n",
    "\n",
    "How do we encourage points to fill out the target shape and not just clump together?\n",
    "\n",
    "<div style=\"text-align: center;\">\n",
    "    <img src=\"media/bald_spots.png\" alt=\"bald spots limitation\">\n",
    "</div>"
   ]
  },
  {
   "cell_type": "markdown",
   "id": "0dc719a6-0b40-4022-bebb-81bf98768b24",
   "metadata": {
    "editable": true,
    "slideshow": {
     "slide_type": "subslide"
    },
    "tags": []
   },
   "source": [
    "### Morphing direction\n",
    "\n",
    "Currently, we can only morph from dataset to shape (and shape to dataset by playing the animation in reverse). I would like to support dataset to dataset and shape to shape morphing, but there are challenges to both:\n",
    "\n",
    "|Goal|Challenges|\n",
    "|---|---|\n",
    "|shape &rarr; shape| determining the initial sizing and possibly aligning scale across the shapes, and solving the bald spot problem |\n",
    "| dataset &rarr; dataset | defining a distance metric, determining scale and position of target, and solving the bald spot problem |"
   ]
  },
  {
   "cell_type": "markdown",
   "id": "15aabb0b-4800-4e4f-89ed-6f89f0f44c95",
   "metadata": {
    "editable": true,
    "slideshow": {
     "slide_type": "subslide"
    },
    "tags": []
   },
   "source": [
    "### Speed\n",
    "\n",
    "The algorithm from the original research is largely untouched and parts of it could potentially be vectorized to speed up the morphing process."
   ]
  },
  {
   "cell_type": "markdown",
   "id": "ee7114eb-8f4b-40c4-9a42-d7dccf8bf2cb",
   "metadata": {
    "editable": true,
    "slideshow": {
     "slide_type": "subslide"
    },
    "tags": []
   },
   "source": [
    "### Data scale affects morphing time\n",
    "\n",
    "Smaller values (left subplot) morph in fewer iterations than larger values (right subplot) since we only move small amounts at a time:\n",
    "\n",
    "<div style=\"text-align: center;\">\n",
    "    <img src=\"media/scale.png\" alt=\"scale\">\n",
    "    <br/>\n",
    "    <small>Converting each of these into the circle shape takes ~25K iterations for the half-scale, ~50K iterations for the actual scale, and ~77.5K iterations for the scaled-up version.</small>\n",
    "</div>"
   ]
  },
  {
   "cell_type": "markdown",
   "id": "d3fcd687-8165-4bff-8ef1-0e60b7844448",
   "metadata": {
    "editable": true,
    "slideshow": {
     "slide_type": "subslide"
    },
    "tags": []
   },
   "source": [
    "### Convergence\n",
    "\n",
    "- **Currently**: The user specifies the number of iterations to run. For datasets with small values, convergence might happen earlier; for datasets with larger values, this might happen well after this number of iterations.\n",
    "- **Goal**: The user would specify the maximum number of iterations and the algorithm would stop early if the dataset had converged to the target shape."
   ]
  },
  {
   "cell_type": "markdown",
   "id": "479f2ee7-c5f1-400b-bf30-dbf3d416dcb8",
   "metadata": {
    "editable": true,
    "slideshow": {
     "slide_type": "slide"
    },
    "tags": []
   },
   "source": [
    "## Lessons learned and challenges faced"
   ]
  },
  {
   "cell_type": "markdown",
   "id": "bc19db3e-89f8-4e6a-925d-1cedc790defb",
   "metadata": {
    "editable": true,
    "slideshow": {
     "slide_type": "subslide"
    },
    "tags": []
   },
   "source": [
    "### Repeating research is hard\n",
    "\n",
    "My first step was to use the [Autodesk researchers' code](https://github.com/jmatejka/same-stats-different-graphs) to recreate the conversion of the Datasaurus into a circle and figure out how the code worked."
   ]
  },
  {
   "cell_type": "markdown",
   "id": "456b655b-e2f4-4fba-91df-9c0e071a0d86",
   "metadata": {
    "editable": true,
    "slideshow": {
     "slide_type": "fragment"
    },
    "tags": []
   },
   "source": [
    "Challenges at this stage:\n",
    "- Limited or no code documentation\n",
    "- Partial code base with unused variables and functions\n",
    "- Generic variable names"
   ]
  },
  {
   "cell_type": "markdown",
   "id": "806f7f02-feef-4264-b6e3-808c8741ffb3",
   "metadata": {
    "editable": true,
    "slideshow": {
     "slide_type": "fragment"
    },
    "tags": []
   },
   "source": [
    "TIME TAKEN: 4 hours"
   ]
  },
  {
   "cell_type": "markdown",
   "id": "f080cf92-8564-41a6-a246-dada84b8188a",
   "metadata": {
    "editable": true,
    "slideshow": {
     "slide_type": "subslide"
    },
    "tags": []
   },
   "source": [
    "### Extending research is harder\n",
    "\n",
    "From there, I tried to get it to work with a panda-shaped dataset, reworked to have similar statistics to the Datasaurus."
   ]
  },
  {
   "cell_type": "markdown",
   "id": "06348454-5aa6-45d7-abf4-6b754dc17b8c",
   "metadata": {
    "editable": true,
    "slideshow": {
     "slide_type": "fragment"
    },
    "tags": []
   },
   "source": [
    "Challenges at this stage:\n",
    "- Limited or no code documentation\n",
    "- Partial code base with unused variables and functions\n",
    "- Hardcoded values (some of which were related to the data)"
   ]
  },
  {
   "cell_type": "markdown",
   "id": "8b180947-8494-4388-a7c2-ca20d0185eea",
   "metadata": {
    "editable": true,
    "slideshow": {
     "slide_type": "fragment"
    },
    "tags": []
   },
   "source": [
    "TIME TAKEN: 1.75 days"
   ]
  },
  {
   "cell_type": "markdown",
   "id": "95df1c55-06e7-47cc-9f34-96170e175434",
   "metadata": {
    "editable": true,
    "slideshow": {
     "slide_type": "subslide"
    },
    "tags": []
   },
   "source": [
    "### Building and distributing a package is a lot of work\n",
    "\n",
    "Once I got the transformation working with the panda (my original goal), I realized this would be a helpful teaching tool and decided to make a package."
   ]
  },
  {
   "cell_type": "markdown",
   "id": "1de4f264-6827-4ad0-aebd-0b4235f4803f",
   "metadata": {
    "editable": true,
    "slideshow": {
     "slide_type": "fragment"
    },
    "tags": []
   },
   "source": [
    "Challenges at this stage:\n",
    "- Purging unused variables and functions\n",
    "- Refactoring a monolithic code base\n",
    "- Writing a pre-commit hook to validate numpydoc-style docstrings ([PR 454](https://github.com/numpy/numpydoc/pull/454))\n",
    "- Building and hosting documentation\n",
    "- Creating a robust test suite from scratch\n",
    "- Publishing to PyPI and conda-forge\n",
    "- Automating workflows with GitHub Actions"
   ]
  },
  {
   "cell_type": "markdown",
   "id": "80f35909-2f30-4274-996e-0ad7e2bc8eec",
   "metadata": {
    "editable": true,
    "slideshow": {
     "slide_type": "fragment"
    },
    "tags": []
   },
   "source": [
    "TIME TAKEN: 2 months (v0.1.0)"
   ]
  },
  {
   "cell_type": "markdown",
   "id": "4d4556d0-4a46-40ab-a65a-9f8c77793c33",
   "metadata": {
    "editable": true,
    "slideshow": {
     "slide_type": "subslide"
    },
    "tags": []
   },
   "source": [
    "### Side note: Don't completely trust the docs\n",
    "Here are some cases I bumped into while building Data Morph:\n",
    "\n",
    "- Error in version switcher config example for pydata-sphinx-theme ([PR 1279](https://github.com/pydata/pydata-sphinx-theme/pull/1279)).\n",
    "- Unable to report code coverage broken out by package and tests in PR using codecov configuration like Matplotlib's ([PR 25698](https://github.com/matplotlib/matplotlib/pull/25698))."
   ]
  },
  {
   "cell_type": "markdown",
   "id": "06933f3f-fe16-468a-b889-2cceaed1afde",
   "metadata": {
    "editable": true,
    "slideshow": {
     "slide_type": "slide"
    },
    "tags": []
   },
   "source": [
    "## Helpful resources\n",
    "\n",
    "- [Configuring setuptools using pyproject.toml files](https://setuptools.pypa.io/en/latest/userguide/pyproject_config.html) – Python Packaging Authority\n",
    "- [Packaging Python Packages](https://packaging.python.org/en/latest/tutorials/packaging-projects/) – Python Packaging Authority\n",
    "- [Building and hosting documentation on GitHub Pages](https://olgarithms.github.io/sphinx-tutorial/docs/7-hosting-on-github-pages.html) – Aya Elsayed and Olga Matoula\n",
    "- [Python Packaging Tutorial: The Conda Way](https://hackmd.io/ElBrRQ6rT4K_dfzjY6pAFQ#3-Time-to-pack-%F0%9F%93%A6) – Bianca Henderson, Mahe Iram Khan, Valerio Maggio, and Dave Clements\n",
    "- [Building and testing Python](https://docs.github.com/en/actions/automating-builds-and-tests/building-and-testing-python) – GitHub Actions docs"
   ]
  },
  {
   "cell_type": "markdown",
   "id": "f74ab583-1ff2-4015-af68-dd756b9402a5",
   "metadata": {
    "editable": true,
    "slideshow": {
     "slide_type": "slide"
    },
    "tags": []
   },
   "source": [
    "## Closing remarks\n",
    "- Summary statistics alone aren't enough to describe your data.\n",
    "- Visualization is essential, but a single plot won't suffice.\n",
    "- Try out Data Morph!\n",
    "  - `python -m pip install data-morph-ai`\n",
    "  - `conda install -c conda-forge data-morph-ai`\n",
    "  - docs: [tinyurl.com/data-morph-docs](https://tinyurl.com/data-morph-docs)\n",
    "  - repo: [github.com/stefmolin/data-morph](https://github.com/stefmolin/data-morph)"
   ]
  },
  {
   "cell_type": "markdown",
   "id": "e4312368-6f47-4ad4-959c-536979e409b8",
   "metadata": {
    "editable": true,
    "slideshow": {
     "slide_type": "slide"
    },
    "tags": []
   },
   "source": [
    "## Thank you!\n",
    "\n",
    "*I hope you enjoyed the session. You can follow my work on the following platforms:*\n",
    "<!-- Font Awesome icons -->\n",
    "<link\n",
    "  href=\"https://cdnjs.cloudflare.com/ajax/libs/font-awesome/5.1.1/css/all.min.css\"\n",
    "  rel=\"stylesheet\" type=\"text/css\">\n",
    "<style type=\"text/css\">\n",
    ".qr-code {\n",
    "    min-width: 225px;\n",
    "}\n",
    "</style>\n",
    "\n",
    "<div style=\"display: flex; justify-content: space-between; align-items: center;\">\n",
    "    <div style=\"text-align: center; flex-basis: auto; flex-shrink: 2;\">\n",
    "        <img class=\"qr-code\" width=\"20%\" src=\"https://raw.githubusercontent.com/stefmolin/python-data-viz-workshop/main/media/qr-code.png\">\n",
    "    </div>\n",
    "\n",
    "<div style=\"flex-basis: 45em; flex-grow: 2; font-size: 80%;\">\n",
    "    <div style=\"display: flex; justify-content: flex-start; align-items: center;\">\n",
    "      <i class=\"fa fa-globe fa-2x fa-fw\" style=\"padding-right: 4px\"></i>\n",
    "      <a href=\"https://stefaniemolin.com\" rel=\"noopener noreferrer\" style=\"font-size: 2em;\">\n",
    "        stefaniemolin.com\n",
    "      </a>\n",
    "    </div>\n",
    "  <div style=\"display: flex; justify-content: flex-start; align-items: center;\">\n",
    "    <i class=\"fab fa-github fa-2x fa-fw\" style=\"padding-right: 4px\"></i>\n",
    "    <a href=\"https://github.com/stefmolin\" rel=\"noopener noreferrer\" style=\"font-size: 2em;\" target=\"_blank\">\n",
    "      github.com/stefmolin\n",
    "    </a>\n",
    "  </div>\n",
    "  <div style=\"display: flex; justify-content: flex-start; align-items: center;\">\n",
    "    <i class=\"fab fa-twitter fa-2x fa-fw\" style=\"padding-right: 4px\"></i>\n",
    "    <a href=\"https://twitter.com/StefanieMolin\" rel=\"noopener noreferrer\" style=\"font-size: 2em;\" target=\"_blank\">\n",
    "      twitter.com/StefanieMolin\n",
    "    </a>\n",
    "  </div>\n",
    "  <div style=\"display: flex; justify-content: flex-start; align-items: center;\">\n",
    "    <i class=\"fab fa-linkedin-in fa-2x fa-fw\" style=\"padding-right: 4px\"></i>\n",
    "    <a href=\"https://linkedin.com/in/stefanie-molin\" rel=\"noopener noreferrer\" style=\"font-size: 2em;\" target=\"_blank\">\n",
    "      linkedin.com/in/stefanie-molin\n",
    "    </a>\n",
    "  </div>\n",
    "</div>\n",
    "</div>"
   ]
  }
 ],
 "metadata": {
  "kernelspec": {
   "display_name": "Python 3 (ipykernel)",
   "language": "python",
   "name": "python3"
  },
  "language_info": {
   "codemirror_mode": {
    "name": "ipython",
    "version": 3
   },
   "file_extension": ".py",
   "mimetype": "text/x-python",
   "name": "python",
   "nbconvert_exporter": "python",
   "pygments_lexer": "ipython3",
   "version": "3.11.3"
  }
 },
 "nbformat": 4,
 "nbformat_minor": 5
}
